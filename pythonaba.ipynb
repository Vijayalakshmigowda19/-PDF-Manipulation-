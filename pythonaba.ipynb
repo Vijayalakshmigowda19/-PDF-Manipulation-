{
  "nbformat": 4,
  "nbformat_minor": 0,
  "metadata": {
    "colab": {
      "provenance": []
    },
    "kernelspec": {
      "name": "python3",
      "display_name": "Python 3"
    },
    "language_info": {
      "name": "python"
    }
  },
  "cells": [
    {
      "cell_type": "code",
      "source": [
        "pip install pypdf"
      ],
      "metadata": {
        "id": "aID25Ep-DRcd",
        "colab": {
          "base_uri": "https://localhost:8080/"
        },
        "outputId": "71f01b18-83c9-40ef-c580-17799d434b00"
      },
      "execution_count": 156,
      "outputs": [
        {
          "output_type": "stream",
          "name": "stdout",
          "text": [
            "Requirement already satisfied: pypdf in /usr/local/lib/python3.10/dist-packages (4.0.2)\n"
          ]
        }
      ]
    },
    {
      "cell_type": "code",
      "source": [
        "#Reading PDF Files With PdfReader\n",
        "from pypdf import PdfReader\n",
        "pdf_reader= PdfReader('OS.pdf')"
      ],
      "metadata": {
        "id": "kLvQSQPrasyM"
      },
      "execution_count": 157,
      "outputs": []
    },
    {
      "cell_type": "code",
      "source": [
        "len(pdf_reader.pages)         #to find length of the pdf"
      ],
      "metadata": {
        "id": "FMLqwVpEDYDF",
        "colab": {
          "base_uri": "https://localhost:8080/"
        },
        "outputId": "15e4cae5-f696-4ba9-8ed4-9d7bf37e79bb"
      },
      "execution_count": 158,
      "outputs": [
        {
          "output_type": "execute_result",
          "data": {
            "text/plain": [
              "37"
            ]
          },
          "metadata": {},
          "execution_count": 158
        }
      ]
    },
    {
      "cell_type": "code",
      "source": [
        "pdf_reader.metadata        #The .metadata object contains the PDF’s metadata, which is set when the file is first created"
      ],
      "metadata": {
        "id": "M0gH1dqyDcC8",
        "colab": {
          "base_uri": "https://localhost:8080/"
        },
        "outputId": "9fcbaa5e-b188-4499-b0fb-f624edd7cc24"
      },
      "execution_count": 159,
      "outputs": [
        {
          "output_type": "execute_result",
          "data": {
            "text/plain": [
              "{'/Title': 'OS Module 2 Notes BISOS304',\n",
              " '/Producer': 'Skia/PDF m123 Google Docs Renderer'}"
            ]
          },
          "metadata": {},
          "execution_count": 159
        }
      ]
    },
    {
      "cell_type": "code",
      "source": [
        "first_page = pdf_reader.pages[0]           #Extracting Text From first Page\n"
      ],
      "metadata": {
        "id": "YdccWoidEmmv"
      },
      "execution_count": 160,
      "outputs": []
    },
    {
      "cell_type": "code",
      "source": [
        "print(first_page.extract_text())"
      ],
      "metadata": {
        "id": "TFIfbjHHHfuv",
        "colab": {
          "base_uri": "https://localhost:8080/"
        },
        "outputId": "7871cce5-e116-4bb5-cf21-28be33f8e3bb"
      },
      "execution_count": 154,
      "outputs": [
        {
          "output_type": "stream",
          "name": "stdout",
          "text": [
            "OperatingSystem:Module2\n",
            "MODULE2Chapter3:ProcessConcept\n",
            "3.1Overview:\n",
            "•Anoperatingsystemexecutesavarietyofprograms.\n",
            "•Batchsystemexecutesjobs,whereasatime-sharedsystemhasuserprogramortasks.\n",
            "3.1.1TheProcess:\n",
            "•Aprocessisaprograminexecution;processexecutionmustprogressinsequentialfashion\n",
            "•Aprocessincludes:programcounterstackdatasection \n",
            "•Processmemoryisdividedintofoursectionsasshownintheﬁgurebelow:\n",
            "1.Thestackisusedtostorelocalvariables,functionparameters,functionreturnvalues,returnaddressetc.\n",
            "2.Theheapisusedfordynamicmemoryallocation.\n",
            "3.Thedatasectionstoresglobalandstaticvariables.\n",
            "4.Thetextsectioncomprisesthecompiledprogramcode.\n",
            "Figure3.1:ProcessinMemory\n",
            "•Notethat,thereisafreespacebetweenthestackandtheheap.\n",
            "•Whenthestackisfull,itgrowsdownwardsandwhentheheapisfull,itgrowsupwards.\n",
            "\n"
          ]
        }
      ]
    },
    {
      "cell_type": "code",
      "source": [
        " from pypdf import PdfWriter\n",
        " pdf_writer = PdfWriter()\n",
        " page = pdf_writer.add_blank_page(width=8.27 * 72, height=11.7 * 72)\n",
        " pdf_writer.write(\"blank.pdf\")"
      ],
      "metadata": {
        "id": "INWSm5hsEnf_",
        "colab": {
          "base_uri": "https://localhost:8080/"
        },
        "outputId": "805c2e8e-0822-4d71-cd9f-fb0eecbdf999"
      },
      "execution_count": 99,
      "outputs": [
        {
          "output_type": "execute_result",
          "data": {
            "text/plain": [
              "(True, <_io.FileIO [closed]>)"
            ]
          },
          "metadata": {},
          "execution_count": 99
        }
      ]
    },
    {
      "cell_type": "code",
      "source": [
        " pip install reportlab"
      ],
      "metadata": {
        "id": "Vrd7boUqBVFw",
        "colab": {
          "base_uri": "https://localhost:8080/"
        },
        "outputId": "ad2ec638-809d-472e-e94a-d13dad6ed0a4"
      },
      "execution_count": 81,
      "outputs": [
        {
          "output_type": "stream",
          "name": "stdout",
          "text": [
            "Requirement already satisfied: reportlab in /usr/local/lib/python3.10/dist-packages (4.1.0)\n",
            "Requirement already satisfied: pillow>=9.0.0 in /usr/local/lib/python3.10/dist-packages (from reportlab) (9.4.0)\n",
            "Requirement already satisfied: chardet in /usr/local/lib/python3.10/dist-packages (from reportlab) (5.2.0)\n"
          ]
        }
      ]
    },
    {
      "cell_type": "code",
      "source": [
        "from reportlab.lib.pagesizes import LETTER\n",
        "from reportlab.pdfgen.canvas import Canvas\n",
        "# creating a new pdf file\n",
        "my_canvas = Canvas(\"newfile.pdf\", pagesize = LETTER)\n",
        "my_canvas.save()"
      ],
      "metadata": {
        "id": "SHv3ma7EBOu3"
      },
      "execution_count": 82,
      "outputs": []
    },
    {
      "cell_type": "code",
      "source": [
        "from pathlib import Path\n",
        "from pypdf import PdfReader, PdfWriter\n"
      ],
      "metadata": {
        "id": "tZccwpy2GZ_k"
      },
      "execution_count": 104,
      "outputs": []
    },
    {
      "cell_type": "code",
      "source": [
        "input_pdf = PdfReader('OS.pdf')\n",
        "first_page = input_pdf.pages[0]\n",
        "output_pdf = PdfWriter()\n",
        "output_pdf.add_page(first_page)\n",
        "output_pdf.write(\"blank.pdf\")\n",
        "\n",
        "\n",
        "\n"
      ],
      "metadata": {
        "id": "1fByhPXZGbLr",
        "colab": {
          "base_uri": "https://localhost:8080/"
        },
        "outputId": "86ea4b39-ce42-4058-c271-4fd8a52b21d7"
      },
      "execution_count": 164,
      "outputs": [
        {
          "output_type": "execute_result",
          "data": {
            "text/plain": [
              "(True, <_io.FileIO [closed]>)"
            ]
          },
          "metadata": {},
          "execution_count": 164
        }
      ]
    },
    {
      "cell_type": "code",
      "source": [
        "output_pdf = PdfWriter()\n",
        "\n",
        "for page in input_pdf.pages[0:4]:\n",
        "  output_pdf.add_page(page)\n"
      ],
      "metadata": {
        "id": "f0eGEqWMGrJ7"
      },
      "execution_count": 115,
      "outputs": []
    },
    {
      "cell_type": "code",
      "source": [
        "output_pdf.write(\"blank.pdf\")"
      ],
      "metadata": {
        "id": "Tnathh-XGtgJ",
        "colab": {
          "base_uri": "https://localhost:8080/"
        },
        "outputId": "c3e260ff-bd42-46a0-ba9c-48b1ecb5cee5"
      },
      "execution_count": 116,
      "outputs": [
        {
          "output_type": "execute_result",
          "data": {
            "text/plain": [
              "(True, <_io.FileIO [closed]>)"
            ]
          },
          "metadata": {},
          "execution_count": 116
        }
      ]
    },
    {
      "cell_type": "code",
      "source": [
        " len(output_pdf.pages)"
      ],
      "metadata": {
        "id": "1s12j3cJG1ty",
        "colab": {
          "base_uri": "https://localhost:8080/"
        },
        "outputId": "2059c101-8215-44d5-8ae8-bae9d6145a59"
      },
      "execution_count": 117,
      "outputs": [
        {
          "output_type": "execute_result",
          "data": {
            "text/plain": [
              "4"
            ]
          },
          "metadata": {},
          "execution_count": 117
        }
      ]
    },
    {
      "cell_type": "code",
      "source": [
        "from reportlab.lib.pagesizes import LETTER\n",
        "from reportlab.pdfgen.canvas import Canvas\n",
        "my_canvas = Canvas(\"newfile.pdf\", pagesize = LETTER)\n",
        "my_canvas.drawInlineImage(\"python.jpg\", 100, 450)\n",
        "my_canvas.save()\n"
      ],
      "metadata": {
        "id": "_tLCJUzCHG-P"
      },
      "execution_count": 165,
      "outputs": []
    },
    {
      "cell_type": "code",
      "source": [
        "from reportlab.lib.pagesizes import LETTER\n",
        "from reportlab.lib.units import inch\n",
        "from reportlab.pdfgen.canvas import Canvas\n",
        "from reportlab.lib.colors import purple\n",
        "my_canvas = Canvas(\"newfile.pdf\", pagesize = LETTER)\n",
        "# setting up the font and the font size\n",
        "my_canvas.setFont(\"Courier\", 18)\n",
        "# setting up the color of the font as purple\n",
        "my_canvas.setFillColor(purple)\n",
        "# writing this text on the PDF file\n",
        "my_canvas.drawString(2 * inch, 8 * inch, \"Welcome to python\")\n",
        "my_canvas.save()"
      ],
      "metadata": {
        "id": "PhpdFmD4HJH2"
      },
      "execution_count": 166,
      "outputs": []
    },
    {
      "cell_type": "code",
      "source": [
        "from reportlab.lib import colors\n",
        "from reportlab.lib.pagesizes import letter, inch\n",
        "from reportlab.platypus import SimpleDocTemplate, Table, TableStyle\n",
        "# creating a pdf file to add tables\n",
        "my_doc = SimpleDocTemplate(\"tablefile.pdf\", pagesize = letter)\n",
        "my_obj = []\n",
        "# defining Data to be stored on table\n",
        "my_data = [\n",
        "   [\"ID\", \"118\"],\n",
        "   [\"Name\", \"XYZ\"],\n",
        "   [\"Sem\", \"Third\"],\n",
        "   [\"Sec\", \"B\"],\n",
        "   [\"Branch\", \"ISE\"]\n",
        "]\n",
        "# Creating the table with 5 rows\n",
        "my_table = Table(my_data, 1 * [1.6 * inch], 5 * [0.5 * inch])\n",
        "# setting up style and alignments of borders and grids\n",
        "my_table.setStyle(\n",
        "   TableStyle(\n",
        "       [\n",
        "           (\"ALIGN\", (1, 1), (0, 0), \"LEFT\"),\n",
        "           (\"VALIGN\", (-1, -1), (-1, -1), \"TOP\"),\n",
        "           (\"ALIGN\", (-1, -1), (-1, -1), \"LEFT\"),\n",
        "           (\"VALIGN\", (-1, -1), (-1, -1), \"TOP\"),\n",
        "           (\"INNERGRID\", (0, 0), (-1, -1), 1, colors.black),\n",
        "           (\"BOX\", (0, 0), (-1, -1), 2, colors.black),\n",
        "       ]\n",
        "   )\n",
        ")\n",
        "my_obj.append(my_table)\n",
        "my_doc.build(my_obj)"
      ],
      "metadata": {
        "id": "H222EUvtHSBD"
      },
      "execution_count": 168,
      "outputs": []
    },
    {
      "cell_type": "code",
      "source": [
        "from pathlib import Path\n",
        "from pypdf import PdfReader, PdfWriter\n",
        "\n",
        "pdf_path = (\n",
        "    Path.home()\n",
        "    #\"creating-and-modifying-pdfs\"\n",
        "    #\"practice_files\"\n",
        "    # \"split_and_rotate.pdf\"\n",
        ")"
      ],
      "metadata": {
        "id": "wSMlJeaj7k_V"
      },
      "execution_count": 124,
      "outputs": []
    },
    {
      "cell_type": "code",
      "source": [
        "pdf_reader = PdfReader('blank.pdf')\n",
        "pdf_writer = PdfWriter()"
      ],
      "metadata": {
        "id": "yNrkBhJk9URl"
      },
      "execution_count": 129,
      "outputs": []
    },
    {
      "cell_type": "code",
      "source": [
        "for i, page in enumerate(pdf_reader.pages):\n",
        "  if i % 2 ==  0:\n",
        "    page.rotate(90)\n",
        "  pdf_writer.add_page(page)"
      ],
      "metadata": {
        "id": "yf1t_hjH9hvV"
      },
      "execution_count": 130,
      "outputs": []
    },
    {
      "cell_type": "code",
      "source": [
        "pdf_writer.write(\"blank.pdf\")"
      ],
      "metadata": {
        "colab": {
          "base_uri": "https://localhost:8080/"
        },
        "id": "e4abo1xi-gCn",
        "outputId": "f03dccd7-690c-41ba-f42d-095c70278f74"
      },
      "execution_count": 131,
      "outputs": [
        {
          "output_type": "execute_result",
          "data": {
            "text/plain": [
              "(True, <_io.FileIO [closed]>)"
            ]
          },
          "metadata": {},
          "execution_count": 131
        }
      ]
    },
    {
      "cell_type": "code",
      "source": [
        " pip install tabula-py"
      ],
      "metadata": {
        "id": "bbfoEDxaLFWY",
        "colab": {
          "base_uri": "https://localhost:8080/"
        },
        "outputId": "755e4bab-af03-4255-b23b-d5b69cd79ee9"
      },
      "execution_count": 137,
      "outputs": [
        {
          "output_type": "stream",
          "name": "stdout",
          "text": [
            "Requirement already satisfied: tabula-py in /usr/local/lib/python3.10/dist-packages (2.9.0)\n",
            "Requirement already satisfied: pandas>=0.25.3 in /usr/local/lib/python3.10/dist-packages (from tabula-py) (1.5.3)\n",
            "Requirement already satisfied: numpy in /usr/local/lib/python3.10/dist-packages (from tabula-py) (1.25.2)\n",
            "Requirement already satisfied: distro in /usr/lib/python3/dist-packages (from tabula-py) (1.7.0)\n",
            "Requirement already satisfied: python-dateutil>=2.8.1 in /usr/local/lib/python3.10/dist-packages (from pandas>=0.25.3->tabula-py) (2.8.2)\n",
            "Requirement already satisfied: pytz>=2020.1 in /usr/local/lib/python3.10/dist-packages (from pandas>=0.25.3->tabula-py) (2023.4)\n",
            "Requirement already satisfied: six>=1.5 in /usr/local/lib/python3.10/dist-packages (from python-dateutil>=2.8.1->pandas>=0.25.3->tabula-py) (1.16.0)\n"
          ]
        }
      ]
    },
    {
      "cell_type": "code",
      "source": [
        "import tabula\n",
        "tabula.convert_into(  \"tablefile.pdf\",  \"excel.csv\",  output_format = \"csv\",  pages = \"all\"  )"
      ],
      "metadata": {
        "colab": {
          "base_uri": "https://localhost:8080/"
        },
        "id": "Z08pMc8VUBzF",
        "outputId": "a8256a58-8b4c-42b2-85cd-a922e72e40b5"
      },
      "execution_count": 139,
      "outputs": [
        {
          "output_type": "stream",
          "name": "stderr",
          "text": [
            "WARNING:tabula.backend:Got stderr: Feb 23, 2024 6:12:07 AM org.apache.pdfbox.pdmodel.font.PDType1Font <init>\n",
            "WARNING: Using fallback font LiberationSans for base font Symbol\n",
            "Feb 23, 2024 6:12:07 AM org.apache.pdfbox.pdmodel.font.PDType1Font <init>\n",
            "WARNING: Using fallback font LiberationSans for base font ZapfDingbats\n",
            "\n"
          ]
        }
      ]
    },
    {
      "cell_type": "code",
      "source": [
        "pip install PyPdf2"
      ],
      "metadata": {
        "colab": {
          "base_uri": "https://localhost:8080/"
        },
        "id": "RRtoUc7Z39D_",
        "outputId": "56e2e414-246c-40c4-d924-c39d0aab7751"
      },
      "execution_count": 161,
      "outputs": [
        {
          "output_type": "stream",
          "name": "stdout",
          "text": [
            "Requirement already satisfied: PyPdf2 in /usr/local/lib/python3.10/dist-packages (3.0.1)\n"
          ]
        }
      ]
    },
    {
      "cell_type": "code",
      "source": [
        "from PyPDF2 import PdfReader, PdfWriter\n",
        "\n",
        "def encrypt_pdf(input_path, output_path, password):\n",
        "    reader = PdfReader(input_path)\n",
        "    writer = PdfWriter()\n",
        "\n",
        "    for page in reader.pages:\n",
        "        writer.add_page(page)\n",
        "\n",
        "    writer.encrypt(user_pwd=password, owner_pwd=None, use_128bit=True)\n",
        "\n",
        "    with open(output_path, 'wb') as output_file:\n",
        "        writer.write(output_file)\n",
        "\n",
        "input_path = 'OS.pdf'\n",
        "output_path = 'output.pdf'\n",
        "password = 'password'\n",
        "\n",
        "encrypt_pdf(input_path, output_path, password)\n"
      ],
      "metadata": {
        "id": "sXNCbZUx39wB"
      },
      "execution_count": 162,
      "outputs": []
    },
    {
      "cell_type": "code",
      "source": [
        "from PyPDF2 import PdfReader, PdfWriter\n",
        "\n",
        "def decrypt_pdf(input_path, output_path, password):\n",
        "    reader = PdfReader(input_path)\n",
        "    if reader.is_encrypted:\n",
        "        reader.decrypt(password)\n",
        "\n",
        "    writer = PdfWriter()\n",
        "\n",
        "    for page in reader.pages:\n",
        "        writer.add_page(page)\n",
        "\n",
        "    with open(output_path, 'wb') as output_file:\n",
        "        writer.write(output_file)\n",
        "\n",
        "input_path = 'output.pdf'\n",
        "output_path = 'decrypted.pdf'\n",
        "password = 'password'\n",
        "\n",
        "decrypt_pdf(input_path, output_path, password)"
      ],
      "metadata": {
        "id": "cnBqatPY6R9W"
      },
      "execution_count": 163,
      "outputs": []
    },
    {
      "cell_type": "code",
      "source": [
        "pip install pdf2docx"
      ],
      "metadata": {
        "id": "EJ66NnlQFp4C",
        "colab": {
          "base_uri": "https://localhost:8080/"
        },
        "outputId": "b839a86d-6005-4e09-9d2e-d3a4ada11faa"
      },
      "execution_count": 143,
      "outputs": [
        {
          "output_type": "stream",
          "name": "stdout",
          "text": [
            "Requirement already satisfied: pdf2docx in /usr/local/lib/python3.10/dist-packages (0.5.8)\n",
            "Requirement already satisfied: PyMuPDF>=1.19.0 in /usr/local/lib/python3.10/dist-packages (from pdf2docx) (1.23.25)\n",
            "Requirement already satisfied: python-docx>=0.8.10 in /usr/local/lib/python3.10/dist-packages (from pdf2docx) (1.1.0)\n",
            "Requirement already satisfied: fonttools>=4.24.0 in /usr/local/lib/python3.10/dist-packages (from pdf2docx) (4.49.0)\n",
            "Requirement already satisfied: numpy>=1.17.2 in /usr/local/lib/python3.10/dist-packages (from pdf2docx) (1.25.2)\n",
            "Requirement already satisfied: opencv-python-headless>=4.5 in /usr/local/lib/python3.10/dist-packages (from pdf2docx) (4.9.0.80)\n",
            "Requirement already satisfied: fire>=0.3.0 in /usr/local/lib/python3.10/dist-packages (from pdf2docx) (0.5.0)\n",
            "Requirement already satisfied: six in /usr/local/lib/python3.10/dist-packages (from fire>=0.3.0->pdf2docx) (1.16.0)\n",
            "Requirement already satisfied: termcolor in /usr/local/lib/python3.10/dist-packages (from fire>=0.3.0->pdf2docx) (2.4.0)\n",
            "Requirement already satisfied: PyMuPDFb==1.23.22 in /usr/local/lib/python3.10/dist-packages (from PyMuPDF>=1.19.0->pdf2docx) (1.23.22)\n",
            "Requirement already satisfied: lxml>=3.1.0 in /usr/local/lib/python3.10/dist-packages (from python-docx>=0.8.10->pdf2docx) (4.9.4)\n",
            "Requirement already satisfied: typing-extensions in /usr/local/lib/python3.10/dist-packages (from python-docx>=0.8.10->pdf2docx) (4.9.0)\n"
          ]
        }
      ]
    },
    {
      "cell_type": "code",
      "source": [
        "from pdf2docx import Converter\n",
        "\n",
        "def convert_pdf_to_docx(input_path, output_path):\n",
        "    cv = Converter(input_path)\n",
        "    cv.convert(output_path, start=0, end=None)\n",
        "    cv.close()\n",
        "\n",
        "input_path = 'OS.pdf'\n",
        "output_path = 'WORD.docx'\n",
        "\n",
        "convert_pdf_to_docx(input_path, output_path)"
      ],
      "metadata": {
        "id": "m78ta4gBGJBE"
      },
      "execution_count": 144,
      "outputs": []
    }
  ]
}